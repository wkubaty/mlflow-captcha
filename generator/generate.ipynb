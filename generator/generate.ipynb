{
 "cells": [
  {
   "cell_type": "code",
   "execution_count": 1,
   "metadata": {},
   "outputs": [
    {
     "data": {
      "text/plain": [
       "['about\\n',\n",
       " 'search\\n',\n",
       " 'other\\n',\n",
       " 'which\\n',\n",
       " 'their\\n',\n",
       " 'there\\n',\n",
       " 'contact\\n',\n",
       " 'business\\n',\n",
       " 'online\\n',\n",
       " 'first\\n']"
      ]
     },
     "execution_count": 1,
     "metadata": {},
     "output_type": "execute_result"
    }
   ],
   "source": [
    "from captcha.image import ImageCaptcha\n",
    "n_words = 100\n",
    "image = ImageCaptcha(font_sizes=[44])\n",
    "captcha_source = './google-10000-english-master/google-10000-english-usa-no-swears-medium.txt'\n",
    "with open(captcha_source, 'r') as source:\n",
    "    words = source.readlines() \n",
    "    \n",
    "words[:10]"
   ]
  },
  {
   "cell_type": "code",
   "execution_count": 2,
   "metadata": {},
   "outputs": [],
   "source": [
    "import shutil\n",
    "import os\n",
    "\n",
    "train_dir = './output/captchas_dict_small_train'\n",
    "validate_dir = './output/captchas_dict_small_validate'\n",
    "test_dir = './output/captchas_dict_small_test'\n",
    "for dir_path in [train_dir, validate_dir, test_dir]:\n",
    "    try:\n",
    "        shutil.rmtree(dir_path)\n",
    "    except:\n",
    "        pass\n",
    "    os.makedirs(dir_path)\n"
   ]
  },
  {
   "cell_type": "code",
   "execution_count": 3,
   "metadata": {},
   "outputs": [
    {
     "name": "stderr",
     "output_type": "stream",
     "text": [
      "100%|██████████| 100/100 [23:35<00:00, 15.25s/it]\n"
     ]
    }
   ],
   "source": [
    "from tqdm import tqdm\n",
    "import os\n",
    "\n",
    "for word in tqdm(words[:n_words]):\n",
    "    word = word.replace('\\n', '')\n",
    "    for i in range(700):\n",
    "        image.write(word, os.path.join(train_dir, '{}_{}.png'.format(word, i)))\n",
    "    for i in range(150):\n",
    "        image.write(word, os.path.join(validate_dir, '{}_{}.png'.format(word, i)))\n",
    "    for i in range(150):\n",
    "        image.write(word, os.path.join(test_dir, '{}_{}.png'.format(word, i)))"
   ]
  },
  {
   "cell_type": "code",
   "execution_count": 4,
   "metadata": {},
   "outputs": [],
   "source": [
    "import numpy\n",
    "from PIL import Image\n",
    "image = Image.open(os.path.join(train_dir, '{}_{}.png'.format(words[0], 0)).convert('L'))\n",
    "image_array = numpy.asarray(image)\n",
    "image.resize((60, 30)).show()"
   ]
  },
  {
   "cell_type": "code",
   "execution_count": null,
   "metadata": {},
   "outputs": [],
   "source": []
  }
 ],
 "metadata": {
  "kernelspec": {
   "display_name": "Python 3",
   "language": "python",
   "name": "python3"
  },
  "language_info": {
   "codemirror_mode": {
    "name": "ipython",
    "version": 3
   },
   "file_extension": ".py",
   "mimetype": "text/x-python",
   "name": "python",
   "nbconvert_exporter": "python",
   "pygments_lexer": "ipython3",
   "version": "3.6.7"
  },
  "pycharm": {
   "stem_cell": {
    "cell_type": "raw",
    "source": [],
    "metadata": {
     "collapsed": false
    }
   }
  }
 },
 "nbformat": 4,
 "nbformat_minor": 1
}